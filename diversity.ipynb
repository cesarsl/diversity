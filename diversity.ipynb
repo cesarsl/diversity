{
 "cells": [
  {
   "cell_type": "code",
   "execution_count": 1,
   "metadata": {},
   "outputs": [
    {
     "data": {
      "application/javascript": [
       "window.genUID = function() {\n",
       "    return 'xxxxxxxx-xxxx-4xxx-yxxx-xxxxxxxxxxxx'.replace(/[xy]/g, function(c) {\n",
       "        var r = Math.random()*16|0, v = c == 'x' ? r : (r&0x3|0x8);\n",
       "        return v.toString(16);\n",
       "    });\n",
       "};\n",
       "\n",
       "\n",
       "define('graphWidget', [\"@jupyter-widgets/base\"], function (widget) {\n",
       "\n",
       "    var GraphView = widget.DOMWidgetView.extend({\n",
       "        render: function(){\n",
       "            var that = this;\n",
       "\n",
       "            var graphId = window.genUID();\n",
       "            var loadingId = 'loading-'+graphId;\n",
       "\n",
       "\n",
       "            var _graph_url = that.model.get('_graph_url');\n",
       "\n",
       "            // variable plotlyDomain in the case of enterprise\n",
       "            var url_parts = _graph_url.split('/');\n",
       "            var plotlyDomain = url_parts[0] + '//' + url_parts[2];\n",
       "\n",
       "            if(!('plotlyDomains' in window)){\n",
       "                window.plotlyDomains = {};\n",
       "            }\n",
       "            window.plotlyDomains[graphId] = plotlyDomain;\n",
       "\n",
       "            // Place IFrame in output cell div `$el`\n",
       "            that.$el.css('width', '100%');\n",
       "            that.$graph = $(['<iframe id=\"'+graphId+'\"',\n",
       "                             'src=\"'+_graph_url+'.embed\"',\n",
       "                             'seamless',\n",
       "                             'style=\"border: none;\"',\n",
       "                             'width=\"100%\"',\n",
       "                             'height=\"600\">',\n",
       "                             '</iframe>'].join(' '));\n",
       "            that.$graph.appendTo(that.$el);\n",
       "\n",
       "            that.$loading = $('<div id=\"'+loadingId+'\">Initializing...</div>')\n",
       "                            .appendTo(that.$el);\n",
       "\n",
       "            // for some reason the 'width' is being changed in IPython 3.0.0\n",
       "            // for the containing `div` element. There's a flicker here, but\n",
       "            // I was unable to fix it otherwise.\n",
       "            setTimeout(function ()  {\n",
       "                if (IPYTHON_VERSION === '3') {\n",
       "                    $('#' + graphId)[0].parentElement.style.width = '100%';\n",
       "                }\n",
       "            }, 500);\n",
       "\n",
       "            // initialize communication with the iframe\n",
       "            if(!('pingers' in window)){\n",
       "                window.pingers = {};\n",
       "            }\n",
       "\n",
       "            window.pingers[graphId] = setInterval(function() {\n",
       "                that.graphContentWindow = $('#'+graphId)[0].contentWindow;\n",
       "                that.graphContentWindow.postMessage({task: 'ping'}, plotlyDomain);\n",
       "            }, 200);\n",
       "\n",
       "            // Assign a message listener to the 'message' events\n",
       "            // from iframe's postMessage protocol.\n",
       "            // Filter the messages by iframe src so that the right message\n",
       "            // gets passed to the right widget\n",
       "            if(!('messageListeners' in window)){\n",
       "                 window.messageListeners = {};\n",
       "            }\n",
       "\n",
       "            window.messageListeners[graphId] = function(e) {\n",
       "                if(_graph_url.indexOf(e.origin)>-1) {\n",
       "                    var frame = document.getElementById(graphId);\n",
       "\n",
       "                    if(frame === null){\n",
       "                        // frame doesn't exist in the dom anymore, clean up it's old event listener\n",
       "                        window.removeEventListener('message', window.messageListeners[graphId]);\n",
       "                        clearInterval(window.pingers[graphId]);\n",
       "                    } else if(frame.contentWindow === e.source) {\n",
       "                        // TODO: Stop event propagation, so each frame doesn't listen and filter\n",
       "                        var frameContentWindow = $('#'+graphId)[0].contentWindow;\n",
       "                        var message = e.data;\n",
       "\n",
       "                        if('pong' in message && message.pong) {\n",
       "                            $('#loading-'+graphId).hide();\n",
       "                            clearInterval(window.pingers[graphId]);\n",
       "                            that.send({event: 'pong', graphId: graphId});\n",
       "                        } else if (message.type==='hover' ||\n",
       "                                   message.type==='zoom'  ||\n",
       "                                   message.type==='click' ||\n",
       "                                   message.type==='unhover') {\n",
       "\n",
       "                            // click and hover events contain all of the data in the traces,\n",
       "                            // which can be a very large object and may take a ton of time\n",
       "                            // to pass to the python backend. Strip out the data, and require\n",
       "                            // the user to call get_figure if they need trace information\n",
       "                            if(message.type !== 'zoom') {\n",
       "                                for(var i in message.points) {\n",
       "                                    delete message.points[i].data;\n",
       "                                    delete message.points[i].fullData;\n",
       "                                }\n",
       "                            }\n",
       "                            that.send({event: message.type, message: message, graphId: graphId});\n",
       "                        } else if (message.task === 'getAttributes') {\n",
       "                            that.send({event: 'getAttributes', response: message.response});\n",
       "                        }\n",
       "                    }\n",
       "                }\n",
       "            };\n",
       "\n",
       "            window.removeEventListener('message', window.messageListeners[graphId]);\n",
       "            window.addEventListener('message', window.messageListeners[graphId]);\n",
       "\n",
       "        },\n",
       "\n",
       "        update: function() {\n",
       "            // Listen for messages from the graph widget in python\n",
       "            var jmessage = this.model.get('_message');\n",
       "            var message = JSON.parse(jmessage);\n",
       "\n",
       "            // check for duplicate messages\n",
       "            if(!('messageIds' in window)){\n",
       "                window.messageIds = {};\n",
       "            }\n",
       "\n",
       "            if(!(message.uid in window.messageIds)){\n",
       "                // message hasn't been received yet, do stuff\n",
       "                window.messageIds[message.uid] = true;\n",
       "\n",
       "                if (message.fadeTo) {\n",
       "                    this.fadeTo(message);\n",
       "                } else {\n",
       "                    var plot = $('#' + message.graphId)[0].contentWindow;\n",
       "                    plot.postMessage(message, window.plotlyDomains[message.graphId]);\n",
       "                }\n",
       "            }\n",
       "\n",
       "            return GraphView.__super__.update.apply(this);\n",
       "        },\n",
       "\n",
       "        /**\n",
       "         * Wrapper for jquery's `fadeTo` function.\n",
       "         *\n",
       "         * @param message Contains the id we need to find the element.\n",
       "         */\n",
       "        fadeTo: function (message) {\n",
       "            var plot = $('#' + message.graphId);\n",
       "            plot.fadeTo(message.duration, message.opacity);\n",
       "        }\n",
       "    });\n",
       "\n",
       "    // Register the GraphView with the widget manager.\n",
       "    return {\n",
       "        GraphView: GraphView\n",
       "    }\n",
       "\n",
       "});\n",
       "\n",
       "//@ sourceURL=graphWidget.js\n"
      ],
      "text/plain": [
       "<IPython.core.display.Javascript object>"
      ]
     },
     "metadata": {},
     "output_type": "display_data"
    },
    {
     "data": {
      "text/html": [
       "<script>requirejs.config({paths: { 'plotly': ['https://cdn.plot.ly/plotly-latest.min']},});if(!window.Plotly) {{require(['plotly'],function(plotly) {window.Plotly=plotly;});}}</script>"
      ],
      "text/vnd.plotly.v1+html": [
       "<script>requirejs.config({paths: { 'plotly': ['https://cdn.plot.ly/plotly-latest.min']},});if(!window.Plotly) {{require(['plotly'],function(plotly) {window.Plotly=plotly;});}}</script>"
      ]
     },
     "metadata": {},
     "output_type": "display_data"
    }
   ],
   "source": [
    "import time\n",
    "import pandas as pd\n",
    "import plotly.graph_objs as go\n",
    "\n",
    "from ipywidgets import widgets\n",
    "from plotly.widgets import GraphWidget\n",
    "from plotly.offline import download_plotlyjs, init_notebook_mode, plot, iplot\n",
    "from IPython.display import display, clear_output, Image\n",
    "\n",
    "init_notebook_mode(connected=True)"
   ]
  },
  {
   "cell_type": "code",
   "execution_count": 2,
   "metadata": {},
   "outputs": [
    {
     "data": {
      "text/plain": [
       "row_id                int64\n",
       "project_id            int64\n",
       "owner_login          object\n",
       "name                 object\n",
       "language             object\n",
       "created_at           object\n",
       "domain               object\n",
       "forks                 int64\n",
       "watchers              int64\n",
       "total_committers      int64\n",
       "total_commits         int64\n",
       "project_age           int64\n",
       "windows               int64\n",
       "window_idx            int64\n",
       "num_commits           int64\n",
       "num_pull_req          int64\n",
       "num_comments          int64\n",
       "num_issues            int64\n",
       "num_committers        int64\n",
       "num_team              int64\n",
       "committers           object\n",
       "commits              object\n",
       "team                 object\n",
       "project_tenures      object\n",
       "github_tenures       object\n",
       "commit_tenures       object\n",
       "genders              object\n",
       "countries            object\n",
       "left                 object\n",
       "stayed               object\n",
       "joined               object\n",
       "male                  int64\n",
       "female                int64\n",
       "unknown               int64\n",
       "has_woman              bool\n",
       "f_known_gender      float64\n",
       "f_known_country     float64\n",
       "blau_gender         float64\n",
       "blau_country        float64\n",
       "med_gh_tenure       float64\n",
       "med_prj_tenure      float64\n",
       "med_cmt_tenure      float64\n",
       "cv_gh_tenure        float64\n",
       "cv_prj_tenure       float64\n",
       "cv_cmt_tenure       float64\n",
       "turnover            float64\n",
       "dtype: object"
      ]
     },
     "execution_count": 2,
     "metadata": {},
     "output_type": "execute_result"
    }
   ],
   "source": [
    "df = pd.read_csv('diversity_data.csv', sep=';', header=0)\n",
    "df.dtypes"
   ]
  },
  {
   "cell_type": "code",
   "execution_count": 3,
   "metadata": {},
   "outputs": [
    {
     "data": {
      "text/plain": [
       "name                 object\n",
       "language             object\n",
       "total_committers      int64\n",
       "window_idx            int64\n",
       "blau_gender         float64\n",
       "blau_country        float64\n",
       "dtype: object"
      ]
     },
     "execution_count": 3,
     "metadata": {},
     "output_type": "execute_result"
    }
   ],
   "source": [
    "selected_df = df.iloc[:,[3,4,9,13,37,38]]\n",
    "selected_df.dtypes"
   ]
  },
  {
   "cell_type": "code",
   "execution_count": 4,
   "metadata": {},
   "outputs": [],
   "source": [
    "temp_series = selected_df.groupby(['name','language','window_idx'])"
   ]
  },
  {
   "cell_type": "code",
   "execution_count": 5,
   "metadata": {},
   "outputs": [],
   "source": [
    "groupedby_name_language = temp_series.apply(lambda x: x)"
   ]
  },
  {
   "cell_type": "code",
   "execution_count": 6,
   "metadata": {},
   "outputs": [],
   "source": [
    "diversity_overtime_df = selected_df.groupby('window_idx').mean()"
   ]
  },
  {
   "cell_type": "code",
   "execution_count": 7,
   "metadata": {
    "scrolled": true
   },
   "outputs": [],
   "source": [
    "popular_language_list = list(groupedby_name_language.sort_values(by='total_committers',ascending=False)['language'].unique())"
   ]
  },
  {
   "cell_type": "code",
   "execution_count": 8,
   "metadata": {},
   "outputs": [],
   "source": [
    "language = widgets.Dropdown(\n",
    "    options = popular_language_list,\n",
    "    value = 'Python',\n",
    "    description = 'Language:'\n",
    ")\n",
    "\n",
    "project_options = ['All']\n",
    "project_options.extend(list(groupedby_name_language.sort_values(by='total_committers',ascending=False)['name'].loc[groupedby_name_language['language'] == language.value].unique()))\n",
    "\n",
    "project = widgets.Dropdown(\n",
    "    options = project_options,\n",
    "    value = 'All',\n",
    "    description = 'Project:'\n",
    ")\n",
    "\n",
    "g = GraphWidget('https://plot.ly/~cesarsl/3/')\n",
    "container = widgets.HBox([language,project])"
   ]
  },
  {
   "cell_type": "code",
   "execution_count": 9,
   "metadata": {},
   "outputs": [],
   "source": [
    "def filter_df(language, project):\n",
    "    df = None\n",
    "    if project != 'All':\n",
    "        df = groupedby_name_language.loc[(groupedby_name_language['language'] == language) & (groupedby_name_language['name'] == project)]        \n",
    "    else: \n",
    "        df = groupedby_name_language.loc[groupedby_name_language['language'] == language].groupby(['language','window_idx']).mean().reset_index()\n",
    "    return df\n",
    "\n",
    "temp_df = filter_df('Python','All')"
   ]
  },
  {
   "cell_type": "code",
   "execution_count": 10,
   "metadata": {},
   "outputs": [],
   "source": [
    "x_values = temp_df.window_idx\n",
    "y1 = temp_df.blau_gender\n",
    "y2 = temp_df.blau_country\n",
    "\n",
    "graph_object = {\n",
    "    'data': {\n",
    "        'x': [x_values, x_values],\n",
    "        'y': [y1, y2],\n",
    "        'name': ['Blau Gender', 'Blau Country'],\n",
    "        'line.color': ['rgb(178,18,18)','rgb(9,113,178)'],\n",
    "        'line.width': 3,\n",
    "        'mode': 'line'\n",
    "    },\n",
    "    'traces': [0,1],\n",
    "    'layout': {\n",
    "        'title': 'Diversity by Language and Project',\n",
    "        'showlegend':  True,\n",
    "        'xaxis': { 'range': [0,24], 'title': 'Quarter' },\n",
    "        'yaxis': { 'range': [0,1], 'title': 'Blau Index' }\n",
    "    }\n",
    "}"
   ]
  },
  {
   "cell_type": "code",
   "execution_count": 11,
   "metadata": {},
   "outputs": [],
   "source": [
    "sorted_df = groupedby_name_language.sort_values(by='total_committers',ascending=False)\n",
    "projects_df = sorted_df.groupby(['name','language','total_committers']).size().reset_index().sort_values(by='total_committers',ascending=False)"
   ]
  },
  {
   "cell_type": "code",
   "execution_count": 12,
   "metadata": {},
   "outputs": [],
   "source": [
    "def validate():\n",
    "    if language.value in popular_language_list:\n",
    "        return True\n",
    "    else:\n",
    "        return False\n",
    "    \n",
    "def response(change):\n",
    "    if validate():\n",
    "        t_df = filter_df(language.value,project.value)\n",
    "        x_values = t_df.window_idx\n",
    "        y1 = t_df.blau_gender\n",
    "        y2 = t_df.blau_country\n",
    "\n",
    "        if change.new in popular_language_list:\n",
    "            projects_list = list(projects_df.loc[projects_df['language'] == language.value]['name'])\n",
    "            project_options = ['All']\n",
    "            project_options.extend(projects_list)\n",
    "            project.options = project_options\n",
    "            project.value = 'All'\n",
    "        \n",
    "        g_object = {\n",
    "            'data': {\n",
    "                'x': [x_values, x_values],\n",
    "                'y': [y1, y2],\n",
    "                'name': ['Blau Gender', 'Blau Country'],\n",
    "                'line.color': ['rgb(178,18,18)','rgb(9,113,178)'],\n",
    "                'line.width': 3,\n",
    "                'mode': 'line'\n",
    "            },\n",
    "            'traces': [0,1],\n",
    "            'layout': {\n",
    "                'title': 'Diversity by Language and Project',\n",
    "                'showlegend':  True,\n",
    "                'xaxis': { 'range': [0,24], 'title': 'Quarter' },\n",
    "                'yaxis': { 'range': [0,1], 'title': 'Blau Index' }\n",
    "            }\n",
    "        }\n",
    "        \n",
    "        g.restyle(g_object['data'],indices =  g_object['traces'])\n",
    "        g.relayout(g_object['layout'])\n",
    "            \n",
    "language.observe(response, names='value')\n",
    "project.observe(response, names='value')"
   ]
  },
  {
   "cell_type": "code",
   "execution_count": 13,
   "metadata": {
    "scrolled": false
   },
   "outputs": [
    {
     "data": {
      "application/vnd.jupyter.widget-view+json": {
       "model_id": "cc3138338fbf4cb5ab8cfcc79b320c82",
       "version_major": 2,
       "version_minor": 0
      },
      "text/plain": [
       "HBox(children=(Dropdown(description='Language:', options=('Python', 'C', 'CoffeeScript', 'Ruby', 'JavaScript',…"
      ]
     },
     "metadata": {},
     "output_type": "display_data"
    },
    {
     "data": {
      "application/vnd.jupyter.widget-view+json": {
       "model_id": "02f44fd888624bcfaa8f41f693911dbf",
       "version_major": 2,
       "version_minor": 0
      },
      "text/plain": [
       "GraphWidget()"
      ]
     },
     "metadata": {},
     "output_type": "display_data"
    }
   ],
   "source": [
    "display(container)\n",
    "display(g)"
   ]
  },
  {
   "cell_type": "code",
   "execution_count": 15,
   "metadata": {},
   "outputs": [
    {
     "data": {
      "application/vnd.plotly.v1+json": {
       "data": [
        {
         "line": {
          "color": "rgb(178,18,18)",
          "width": 3
         },
         "mode": "lines",
         "name": "Blau Gender",
         "type": "scatter",
         "x": [
          1,
          2,
          3,
          4,
          5,
          6,
          7,
          8,
          9,
          10,
          11,
          12,
          13,
          14,
          15,
          16,
          17,
          18,
          19,
          20,
          21,
          22,
          23,
          24
         ],
         "y": [
          0.042732303239262706,
          0.04371074043938166,
          0.042246567643516864,
          0.04176898185600377,
          0.03977814820427322,
          0.039947983870967596,
          0.04059820485744449,
          0.04195270733379029,
          0.04159236234458263,
          0.04101988636363637,
          0.040467340590979756,
          0.04158316633266535,
          0.0374045077105575,
          0.03502674591381873,
          0.03870841487279843,
          0.03815,
          0.03676822916666669,
          0.04083076923076923,
          0.03780363636363637,
          0.0431933962264151,
          0.041090425531914894,
          0.026128834355828225,
          0.03512765957446809,
          0.039093333333333334
         ]
        },
        {
         "line": {
          "color": "rgb(9,113,178)",
          "width": 3
         },
         "mode": "lines",
         "name": "Blau Country",
         "type": "scatter",
         "x": [
          1,
          2,
          3,
          4,
          5,
          6,
          7,
          8,
          9,
          10,
          11,
          12,
          13,
          14,
          15,
          16,
          17,
          18,
          19,
          20,
          21,
          22,
          23,
          24
         ],
         "y": [
          0.1293732601200326,
          0.14723550650935371,
          0.16566431152147468,
          0.17962706575753842,
          0.19501242612516895,
          0.2050852822580642,
          0.21724128827877476,
          0.2251117203564085,
          0.22482282415630522,
          0.2431034090909092,
          0.2508203732503887,
          0.26749899799599197,
          0.24749110320284684,
          0.24178900445765236,
          0.28760078277886514,
          0.2660931818181819,
          0.2732213541666669,
          0.2978092307692308,
          0.27175636363636374,
          0.2751273584905661,
          0.24572872340425536,
          0.2410429447852761,
          0.21475177304964543,
          0.29727999999999993
         ]
        }
       ],
       "layout": {
        "title": "Diversity Over Time",
        "xaxis": {
         "title": "Quarter"
        },
        "yaxis": {
         "title": "Blau Index"
        }
       }
      },
      "text/html": [
       "<div id=\"0479a6f0-7441-4b27-b5dd-d94b5cf4c2f6\" style=\"height: 525px; width: 100%;\" class=\"plotly-graph-div\"></div><script type=\"text/javascript\">require([\"plotly\"], function(Plotly) { window.PLOTLYENV=window.PLOTLYENV || {};window.PLOTLYENV.BASE_URL=\"https://plot.ly\";Plotly.newPlot(\"0479a6f0-7441-4b27-b5dd-d94b5cf4c2f6\", [{\"type\": \"scatter\", \"x\": [1, 2, 3, 4, 5, 6, 7, 8, 9, 10, 11, 12, 13, 14, 15, 16, 17, 18, 19, 20, 21, 22, 23, 24], \"y\": [0.042732303239262706, 0.04371074043938166, 0.042246567643516864, 0.04176898185600377, 0.03977814820427322, 0.039947983870967596, 0.04059820485744449, 0.04195270733379029, 0.04159236234458263, 0.04101988636363637, 0.040467340590979756, 0.04158316633266535, 0.0374045077105575, 0.03502674591381873, 0.03870841487279843, 0.03815, 0.03676822916666669, 0.04083076923076923, 0.03780363636363637, 0.0431933962264151, 0.041090425531914894, 0.026128834355828225, 0.03512765957446809, 0.039093333333333334], \"mode\": \"lines\", \"name\": \"Blau Gender\", \"line\": {\"color\": \"rgb(178,18,18)\", \"width\": 3}}, {\"type\": \"scatter\", \"x\": [1, 2, 3, 4, 5, 6, 7, 8, 9, 10, 11, 12, 13, 14, 15, 16, 17, 18, 19, 20, 21, 22, 23, 24], \"y\": [0.1293732601200326, 0.14723550650935371, 0.16566431152147468, 0.17962706575753842, 0.19501242612516895, 0.2050852822580642, 0.21724128827877476, 0.2251117203564085, 0.22482282415630522, 0.2431034090909092, 0.2508203732503887, 0.26749899799599197, 0.24749110320284684, 0.24178900445765236, 0.28760078277886514, 0.2660931818181819, 0.2732213541666669, 0.2978092307692308, 0.27175636363636374, 0.2751273584905661, 0.24572872340425536, 0.2410429447852761, 0.21475177304964543, 0.29727999999999993], \"mode\": \"lines\", \"name\": \"Blau Country\", \"line\": {\"color\": \"rgb(9,113,178)\", \"width\": 3}}], {\"title\": \"Diversity Over Time\", \"xaxis\": {\"title\": \"Quarter\"}, \"yaxis\": {\"title\": \"Blau Index\"}}, {\"showLink\": true, \"linkText\": \"Export to plot.ly\"})});</script>"
      ],
      "text/vnd.plotly.v1+html": [
       "<div id=\"0479a6f0-7441-4b27-b5dd-d94b5cf4c2f6\" style=\"height: 525px; width: 100%;\" class=\"plotly-graph-div\"></div><script type=\"text/javascript\">require([\"plotly\"], function(Plotly) { window.PLOTLYENV=window.PLOTLYENV || {};window.PLOTLYENV.BASE_URL=\"https://plot.ly\";Plotly.newPlot(\"0479a6f0-7441-4b27-b5dd-d94b5cf4c2f6\", [{\"type\": \"scatter\", \"x\": [1, 2, 3, 4, 5, 6, 7, 8, 9, 10, 11, 12, 13, 14, 15, 16, 17, 18, 19, 20, 21, 22, 23, 24], \"y\": [0.042732303239262706, 0.04371074043938166, 0.042246567643516864, 0.04176898185600377, 0.03977814820427322, 0.039947983870967596, 0.04059820485744449, 0.04195270733379029, 0.04159236234458263, 0.04101988636363637, 0.040467340590979756, 0.04158316633266535, 0.0374045077105575, 0.03502674591381873, 0.03870841487279843, 0.03815, 0.03676822916666669, 0.04083076923076923, 0.03780363636363637, 0.0431933962264151, 0.041090425531914894, 0.026128834355828225, 0.03512765957446809, 0.039093333333333334], \"mode\": \"lines\", \"name\": \"Blau Gender\", \"line\": {\"color\": \"rgb(178,18,18)\", \"width\": 3}}, {\"type\": \"scatter\", \"x\": [1, 2, 3, 4, 5, 6, 7, 8, 9, 10, 11, 12, 13, 14, 15, 16, 17, 18, 19, 20, 21, 22, 23, 24], \"y\": [0.1293732601200326, 0.14723550650935371, 0.16566431152147468, 0.17962706575753842, 0.19501242612516895, 0.2050852822580642, 0.21724128827877476, 0.2251117203564085, 0.22482282415630522, 0.2431034090909092, 0.2508203732503887, 0.26749899799599197, 0.24749110320284684, 0.24178900445765236, 0.28760078277886514, 0.2660931818181819, 0.2732213541666669, 0.2978092307692308, 0.27175636363636374, 0.2751273584905661, 0.24572872340425536, 0.2410429447852761, 0.21475177304964543, 0.29727999999999993], \"mode\": \"lines\", \"name\": \"Blau Country\", \"line\": {\"color\": \"rgb(9,113,178)\", \"width\": 3}}], {\"title\": \"Diversity Over Time\", \"xaxis\": {\"title\": \"Quarter\"}, \"yaxis\": {\"title\": \"Blau Index\"}}, {\"showLink\": true, \"linkText\": \"Export to plot.ly\"})});</script>"
      ]
     },
     "metadata": {},
     "output_type": "display_data"
    }
   ],
   "source": [
    "trace0 = go.Scatter(\n",
    "    x = diversity_overtime_df.index,\n",
    "    y = diversity_overtime_df.blau_gender,\n",
    "    mode = 'lines',\n",
    "    name = 'Blau Gender',\n",
    "    line = {\n",
    "        'color':  'rgb(178,18,18)',\n",
    "        'width': 3\n",
    "    }\n",
    ")\n",
    "\n",
    "trace1 = go.Scatter(\n",
    "    x = diversity_overtime_df.index,\n",
    "    y = diversity_overtime_df.blau_country,\n",
    "    mode = 'lines',\n",
    "    name = 'Blau Country',\n",
    "    line = {\n",
    "        'color': 'rgb(9,113,178)',\n",
    "        'width': 3\n",
    "    }\n",
    ")\n",
    "\n",
    "layout = go.Layout(\n",
    "    title = 'Diversity Over Time',\n",
    "    xaxis = {\n",
    "        'title': 'Quarter'\n",
    "    },\n",
    "    yaxis = {\n",
    "        'title':  'Blau Index'\n",
    "    }\n",
    ")\n",
    "\n",
    "data = go.Data([trace0,trace1])\n",
    "figure = go.Figure(data = data, layout = layout)\n",
    "\n",
    "iplot(figure, filename = 'diversity-over-time')"
   ]
  }
 ],
 "metadata": {
  "kernelspec": {
   "display_name": "Python 3",
   "language": "python",
   "name": "python3"
  },
  "language_info": {
   "codemirror_mode": {
    "name": "ipython",
    "version": 3
   },
   "file_extension": ".py",
   "mimetype": "text/x-python",
   "name": "python",
   "nbconvert_exporter": "python",
   "pygments_lexer": "ipython3",
   "version": "3.6.5"
  }
 },
 "nbformat": 4,
 "nbformat_minor": 2
}
